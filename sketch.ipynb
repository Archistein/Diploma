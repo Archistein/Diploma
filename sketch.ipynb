{
 "cells": [
  {
   "cell_type": "code",
   "execution_count": 1,
   "metadata": {},
   "outputs": [],
   "source": [
    "import torch\n",
    "import torch.nn as nn\n",
    "import torch.nn.functional as F\n",
    "import torch.optim as optim\n",
    "from torch import utils\n",
    "from PIL import Image\n",
    "import albumentations as A\n",
    "from albumentations.pytorch import ToTensorV2\n",
    "import numpy as np\n",
    "from typing import Iterator\n",
    "import random\n",
    "from tqdm import tqdm"
   ]
  },
  {
   "cell_type": "code",
   "execution_count": 2,
   "metadata": {},
   "outputs": [],
   "source": [
    "device = torch.device('cuda' if torch.cuda.is_available() else 'cpu')"
   ]
  },
  {
   "cell_type": "code",
   "execution_count": 3,
   "metadata": {},
   "outputs": [],
   "source": [
    "random.seed(42)\n",
    "torch.manual_seed(42)\n",
    "torch.cuda.manual_seed(42)\n",
    "torch.backends.cudnn.deterministic = True"
   ]
  },
  {
   "cell_type": "code",
   "execution_count": 4,
   "metadata": {},
   "outputs": [],
   "source": [
    "from datasets import load_dataset, iterable_dataset\n",
    "\n",
    "ds = load_dataset(\"nielsr/CelebA-faces\", streaming=True)['train'] # TODO: split to train and val"
   ]
  },
  {
   "cell_type": "code",
   "execution_count": 5,
   "metadata": {},
   "outputs": [],
   "source": [
    "img_width = 160\n",
    "img_height = 144\n",
    "\n",
    "calc_mean = 0.4377\n",
    "calc_std = 0.2722\n",
    "\n",
    "class FacesIterDataset(utils.data.IterableDataset):\n",
    "    def __init__(self, \n",
    "                 iterable: iterable_dataset.IterableDataset,\n",
    "                 transforms: A.Compose\n",
    "                ):\n",
    "        self.iterable = iterable\n",
    "        self.transforms = transforms\n",
    "\n",
    "    def __iter__(self) -> Iterator[torch.Tensor]:\n",
    "        for item in self.iterable:\n",
    "            image = np.array(item['image'])\n",
    "            image = self.transforms(image=image)['image']\n",
    "\n",
    "            yield image\n",
    "\n",
    "transforms = A.Compose([\n",
    "    A.CenterCrop(img_width, img_height, p=1),\n",
    "    A.ToGray(1, p=1),\n",
    "    A.Normalize(mean=calc_mean, std=calc_std),\n",
    "    ToTensorV2()\n",
    "])\n",
    "\n",
    "train_dataloader = utils.data.DataLoader(FacesIterDataset(ds, transforms),\n",
    "                              batch_size = 128,\n",
    "                              shuffle=False)"
   ]
  },
  {
   "cell_type": "code",
   "execution_count": 6,
   "metadata": {},
   "outputs": [],
   "source": [
    "def denormalize(img: torch.Tensor, mean: float = calc_mean, std: float = calc_std) -> np.ndarray:\n",
    "    return np.clip((img.cpu().detach().numpy() * std + mean)*255, 0, 255).astype(np.uint8)"
   ]
  },
  {
   "cell_type": "code",
   "execution_count": 7,
   "metadata": {},
   "outputs": [],
   "source": [
    "class ConvBlock(nn.Module):\n",
    "    def __init__(self, \n",
    "                 in_channels: int,\n",
    "                 out_channels: int,\n",
    "                 kernel_size: int,\n",
    "                 stride: int,\n",
    "                 padding: int\n",
    "                ):\n",
    "        super().__init__()\n",
    "\n",
    "        self.conv = nn.Conv2d(in_channels, out_channels, kernel_size, stride, padding, bias=False)\n",
    "        self.bn = nn.BatchNorm2d(out_channels)\n",
    "        self.elu = nn.ELU()\n",
    "    \n",
    "    def forward(self, x: torch.Tensor) -> torch.Tensor:\n",
    "        out = self.conv(x)\n",
    "        out = self.bn(out)\n",
    "        out = self.elu(out)\n",
    "\n",
    "        return out\n",
    "    \n",
    "\n",
    "class ConvTpBlock(nn.Module):\n",
    "    def __init__(self, \n",
    "                 in_channels: int,\n",
    "                 out_channels: int,\n",
    "                 kernel_size: int,\n",
    "                 stride: int,\n",
    "                 padding: int,\n",
    "                 output_padding: int\n",
    "                ):\n",
    "        super().__init__()\n",
    "\n",
    "        self.convt =  nn.ConvTranspose2d(in_channels, out_channels, kernel_size, stride, padding, output_padding, bias=False)\n",
    "        self.bn = nn.BatchNorm2d(out_channels)\n",
    "        self.elu = nn.ELU()\n",
    "    \n",
    "    def forward(self, x: torch.Tensor) -> torch.Tensor:\n",
    "        out = self.convt(x)\n",
    "        out = self.bn(out)\n",
    "        out = self.elu(out)\n",
    "\n",
    "        return out"
   ]
  },
  {
   "cell_type": "code",
   "execution_count": 8,
   "metadata": {},
   "outputs": [],
   "source": [
    "from math import ceil, prod\n",
    "\n",
    "class Encoder(nn.Module):\n",
    "    def __init__(self, \n",
    "                 img_size: tuple[int],\n",
    "                 in_channels: int,\n",
    "                 latent_dim: int,\n",
    "                 hidden_layers: tuple[int]\n",
    "                ):\n",
    "        super().__init__()\n",
    "\n",
    "        self.encoder = nn.ModuleList()\n",
    "        \n",
    "        for layer in hidden_layers:\n",
    "            self.encoder.append(nn.ModuleDict({\n",
    "                'conv1': ConvBlock(in_channels, in_channels, kernel_size=3, stride=1, padding=1),\n",
    "                'conv2': ConvBlock(in_channels, layer, kernel_size=3, stride=2, padding=1)\n",
    "            }))\n",
    "            in_channels = layer\n",
    "        \n",
    "        self.origin_shape = hidden_layers[-1], ceil(img_size[0] / 2**len(hidden_layers)), ceil(img_size[1] / 2**len(hidden_layers))\n",
    "\n",
    "        enc_dim = self.origin_shape[0] * self.origin_shape[1] * self.origin_shape[2]\n",
    "        \n",
    "        self.fc_mu = nn.Linear(enc_dim, latent_dim)\n",
    "        self.fc_logvar = nn.Linear(enc_dim, latent_dim)\n",
    "\n",
    "    def forward(self, x: torch.Tensor) -> tuple[torch.Tensor]:\n",
    "        for block in self.encoder:\n",
    "            out = block['conv1'](x)\n",
    "            x = block['conv2'](out + x)\n",
    "        \n",
    "        out = torch.flatten(x, start_dim=1)\n",
    "        \n",
    "        mu = self.fc_mu(out)\n",
    "        logvar = self.fc_logvar(out)\n",
    "\n",
    "        return mu, logvar"
   ]
  },
  {
   "cell_type": "code",
   "execution_count": 9,
   "metadata": {},
   "outputs": [],
   "source": [
    "class Decoder(nn.Module):\n",
    "    def __init__(self,\n",
    "                 out_channels: int,\n",
    "                 latent_dim: int,\n",
    "                 origin_shape: tuple[int],\n",
    "                 hidden_layers: tuple[int]\n",
    "                ):\n",
    "        super().__init__()\n",
    "\n",
    "        self.fc = nn.Linear(latent_dim, prod(origin_shape))\n",
    "\n",
    "        self.reshape = lambda z: z.view(-1, *origin_shape)\n",
    "\n",
    "        self.decoder = nn.ModuleList()\n",
    "\n",
    "        for curr, next in zip(hidden_layers, hidden_layers[1:] + (hidden_layers[-1],)):\n",
    "            self.decoder.append(nn.ModuleDict({\n",
    "                'conv': ConvBlock(curr, curr, kernel_size=3, stride=1, padding=1),\n",
    "                'convt': ConvTpBlock(curr, next, kernel_size=3, stride=2, padding=1, output_padding=1)\n",
    "            }))\n",
    "        \n",
    "        self.head = nn.Conv2d(hidden_layers[-1], out_channels, kernel_size=3, padding=1)\n",
    "\n",
    "    def forward(self, z: torch.Tensor) -> torch.Tensor:\n",
    "        z = self.fc(z)\n",
    "        z = self.reshape(z)\n",
    "\n",
    "        for block in self.decoder:\n",
    "            out = block['conv'](z)\n",
    "            z = block['convt'](out + z)\n",
    "\n",
    "        return self.head(z)"
   ]
  },
  {
   "cell_type": "code",
   "execution_count": 10,
   "metadata": {},
   "outputs": [],
   "source": [
    "class VAE(nn.Module):\n",
    "    def __init__(self, \n",
    "                 img_size: tuple[int],\n",
    "                 in_channels: int,\n",
    "                 latent_dim: int = 512,\n",
    "                 hidden_layers: tuple[int] = (32, 64, 128, 256)\n",
    "                ):\n",
    "        super().__init__()\n",
    "        \n",
    "        self.latent_dim = latent_dim\n",
    "        self.encoder = Encoder(img_size, in_channels, latent_dim, hidden_layers)\n",
    "        self.decoder = Decoder(in_channels, latent_dim, self.encoder.origin_shape, hidden_layers[::-1])\n",
    "    \n",
    "    def forward(self, x: torch.Tensor) -> tuple[torch.Tensor, torch.Tensor, torch.Tensor]:\n",
    "        mu, logvar = self.encoder(x)\n",
    "        z = self.reparameterize(mu, logvar)\n",
    "        \n",
    "        return self.decoder(z), mu, logvar\n",
    "    \n",
    "    def reparameterize(self, mu: torch.Tensor, logvar: torch.Tensor) -> torch.Tensor:\n",
    "        std = torch.exp(0.5 * logvar)\n",
    "        eps = torch.randn_like(std)\n",
    "\n",
    "        return eps * std + mu\n",
    "    \n",
    "    def loss(self,\n",
    "             reconstr: torch.Tensor,\n",
    "             target: torch.Tensor,\n",
    "             mu: torch.Tensor, \n",
    "             logvar: torch.Tensor\n",
    "            ) -> tuple[torch.Tensor, torch.Tensor]:\n",
    "        \n",
    "        reconstruction_loss = F.mse_loss(reconstr, target)\n",
    "        regularization_term = -0.5 * torch.sum(1 + logvar - mu**2 - logvar.exp(), dim=1)\n",
    "\n",
    "        return reconstruction_loss, regularization_term.mean()\n",
    "\n",
    "    def sample(self, num: int, device: torch.device) -> torch.Tensor:\n",
    "        z = torch.randn(num, self.latent_dim, device=device)\n",
    "\n",
    "        return self.decoder(z)"
   ]
  },
  {
   "cell_type": "code",
   "execution_count": 11,
   "metadata": {},
   "outputs": [],
   "source": [
    "vae = VAE((160, 144), 1, 1024)\n",
    "#vae.load_state_dict(torch.load('params_.pt', weights_only=True))"
   ]
  },
  {
   "cell_type": "code",
   "execution_count": 12,
   "metadata": {},
   "outputs": [],
   "source": [
    "epoch = 50\n",
    "lr = 3e-4\n",
    "grad_clip = 1\n",
    "optimizer = optim.AdamW(vae.parameters(), lr)\n",
    "scheduler = optim.lr_scheduler.ExponentialLR(optimizer, gamma=0.96) # TODO: change to advanced scheduler\n",
    "\n",
    "rec_losses = []\n",
    "kl_losses = []\n",
    "elbo_losses = []\n",
    "\n",
    "min_elbo = float('inf')"
   ]
  },
  {
   "cell_type": "code",
   "execution_count": 13,
   "metadata": {},
   "outputs": [],
   "source": [
    "@torch.inference_mode\n",
    "def visualize_trio(input: torch.Tensor, reconstruction: torch.Tensor, vae: VAE) -> None:\n",
    "    vae.eval()\n",
    "    denorm_sample = denormalize(vae.sample(1, device).squeeze((0, 1)))\n",
    "    denorm_reconst = denormalize(reconstruction)\n",
    "    denorm_input = denormalize(input)\n",
    "    concat = np.hstack([denorm_input, denorm_reconst, denorm_sample])\n",
    "    display(Image.fromarray(concat))\n",
    "    vae.train()"
   ]
  },
  {
   "cell_type": "code",
   "execution_count": null,
   "metadata": {},
   "outputs": [],
   "source": [
    "vae.train()\n",
    "vae.to(device)\n",
    "\n",
    "delta = 5e-6\n",
    "beta = 1e-5\n",
    "\n",
    "for e in range(epoch):\n",
    "    #beta = min(0.01, 10 ** (e - 5))\n",
    "\n",
    "    running_rec_loss = 0\n",
    "    running_kl_loss = 0\n",
    "    total_samples = 0\n",
    "\n",
    "    for i, inputs in (pbar := tqdm(enumerate(train_dataloader), desc=f'Epoch: {e+1}')):\n",
    "    \n",
    "        inputs = inputs.to(device)\n",
    "\n",
    "        reconstructions, mu, logvar = vae(inputs)\n",
    "\n",
    "        reconstruction_loss, kl_loss = vae.loss(reconstructions, inputs, mu, logvar)\n",
    "        elbo_loss = reconstruction_loss + beta * kl_loss\n",
    "\n",
    "        running_rec_loss += reconstruction_loss.item() * inputs.size(0)\n",
    "        running_kl_loss += kl_loss.item() * inputs.size(0)\n",
    "        total_samples += inputs.size(0)\n",
    "\n",
    "        optimizer.zero_grad()\n",
    "        elbo_loss.backward()\n",
    "        nn.utils.clip_grad_norm_(vae.parameters(), grad_clip)\n",
    "        optimizer.step()\n",
    "\n",
    "        avg_rec_loss = running_rec_loss / total_samples\n",
    "        avg_kl_loss = running_kl_loss / total_samples\n",
    "        avg_elbo_loss = avg_rec_loss + avg_kl_loss * 1e-4\n",
    "\n",
    "        pbar.set_description(f'Epoch: {e+1} | Rec loss: {avg_rec_loss:.05f} | KL loss: {avg_kl_loss:.05f} | Beta = {beta}')\n",
    "\n",
    "        if (i % 100 == 0):\n",
    "            visualize_trio(inputs[0].squeeze(0), reconstructions[0].squeeze(0), vae)\n",
    "\n",
    "        if (i % 300 == 0 and i != 0):\n",
    "            beta += delta\n",
    "\n",
    "            if avg_elbo_loss < min_elbo:\n",
    "                min_elbo = avg_elbo_loss\n",
    "                torch.save(vae.state_dict(), 'params.pt')\n",
    "\n",
    "            running_rec_loss = 0\n",
    "            running_kl_loss = 0\n",
    "            total_samples = 0\n",
    "\n",
    "        rec_losses.append(avg_rec_loss)\n",
    "        kl_losses.append(avg_kl_loss)\n",
    "        elbo_losses.append(avg_elbo_loss)\n",
    "    \n",
    "    torch.save(vae.state_dict(), 'last_params.pt')\n",
    "\n",
    "    scheduler.step()"
   ]
  },
  {
   "cell_type": "code",
   "execution_count": 404,
   "metadata": {},
   "outputs": [
    {
     "data": {
      "image/jpeg": "[encoded data removed]",
      "image/png": "[encoded data removed]",
      "text/plain": [
       "<PIL.Image.Image image mode=L size=144x160>"
      ]
     },
     "metadata": {},
     "output_type": "display_data"
    }
   ],
   "source": [
    "vae.eval()\n",
    "display(Image.fromarray(denormalize(vae.sample(1, device).squeeze((0, 1)))))"
   ]
  },
  {
   "cell_type": "code",
   "execution_count": 111,
   "metadata": {},
   "outputs": [
    {
     "data": {
      "image/jpeg": "[encoded data removed]",
      "image/png": "[encoded data removed]",
      "text/plain": [
       "<PIL.Image.Image image mode=L size=144x160>"
      ]
     },
     "metadata": {},
     "output_type": "display_data"
    }
   ],
   "source": [
    "vae.eval()\n",
    "display(Image.fromarray(denormalize(vae.sample(1, device).squeeze((0, 1)))))"
   ]
  },
  {
   "cell_type": "code",
   "execution_count": 89,
   "metadata": {},
   "outputs": [
    {
     "data": {
      "image/jpeg": "[encoded data removed]",
      "image/png": "[encoded data removed]",
      "text/plain": [
       "<PIL.Image.Image image mode=L size=144x160>"
      ]
     },
     "metadata": {},
     "output_type": "display_data"
    }
   ],
   "source": [
    "vae.eval()\n",
    "display(Image.fromarray(denormalize(vae.sample(1, device).squeeze((0, 1)))))"
   ]
  },
  {
   "cell_type": "code",
   "execution_count": 244,
   "metadata": {},
   "outputs": [
    {
     "data": {
      "image/jpeg": "[encoded data removed]",
      "image/png": "[encoded data removed]",
      "text/plain": [
       "<PIL.Image.Image image mode=L size=144x160>"
      ]
     },
     "metadata": {},
     "output_type": "display_data"
    }
   ],
   "source": [
    "vae.eval()\n",
    "vae.to(device)\n",
    "display(Image.fromarray(denormalize(vae.sample(1, device).squeeze((0, 1)))))"
   ]
  },
  {
   "cell_type": "code",
   "execution_count": 591,
   "metadata": {},
   "outputs": [
    {
     "data": {
      "image/jpeg": "[encoded data removed]",
      "image/png": "[encoded data removed]",
      "text/plain": [
       "<PIL.Image.Image image mode=L size=144x160>"
      ]
     },
     "metadata": {},
     "output_type": "display_data"
    }
   ],
   "source": [
    "img = transforms(image=np.array(Image.open('test.jpeg').resize((160, 160), Image.Resampling.LANCZOS)))['image']\n",
    "display(Image.fromarray(denormalize(vae(img.unsqueeze(0).to(device))[0].squeeze((0, 1)))))"
   ]
  }
 ],
 "metadata": {
  "kernelspec": {
   "display_name": "usr",
   "language": "python",
   "name": "python3"
  },
  "language_info": {
   "codemirror_mode": {
    "name": "ipython",
    "version": 3
   },
   "file_extension": ".py",
   "mimetype": "text/x-python",
   "name": "python",
   "nbconvert_exporter": "python",
   "pygments_lexer": "ipython3",
   "version": "3.13.0"
  }
 },
 "nbformat": 4,
 "nbformat_minor": 2
}
