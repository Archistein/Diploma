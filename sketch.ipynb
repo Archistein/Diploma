{
 "cells": [
  {
   "cell_type": "code",
   "execution_count": 26,
   "metadata": {},
   "outputs": [],
   "source": [
    "import torch\n",
    "import torch.nn as nn\n",
    "import torch.nn.functional as F\n",
    "import torch.optim as optim\n",
    "from torch import utils\n",
    "from PIL import Image\n",
    "import albumentations as A\n",
    "from albumentations.pytorch import ToTensorV2\n",
    "import numpy as np\n",
    "from typing import Iterator"
   ]
  },
  {
   "cell_type": "code",
   "execution_count": 199,
   "metadata": {},
   "outputs": [],
   "source": [
    "device = torch.device('cuda' if torch.cuda.is_available() else 'cpu')"
   ]
  },
  {
   "cell_type": "code",
   "execution_count": 3,
   "metadata": {},
   "outputs": [],
   "source": [
    "from datasets import load_dataset, iterable_dataset\n",
    "\n",
    "ds = load_dataset(\"nielsr/CelebA-faces\", streaming=True)['train']"
   ]
  },
  {
   "cell_type": "code",
   "execution_count": 29,
   "metadata": {},
   "outputs": [],
   "source": [
    "class FacesIterDataset(utils.data.IterableDataset):\n",
    "    def __init__(self, \n",
    "                 iterable: iterable_dataset.IterableDataset,\n",
    "                 transforms: A.Compose\n",
    "                ):\n",
    "        self.iterable = iterable\n",
    "        self.transforms = transforms\n",
    "\n",
    "    def __iter__(self) -> Iterator[torch.Tensor]:\n",
    "        for item in self.iterable:\n",
    "            image = np.array(item['image'])\n",
    "            image = self.transforms(image=image)['image']\n",
    "\n",
    "            yield image\n",
    "\n",
    "transforms = A.Compose([\n",
    "    A.CenterCrop(160, 144, p=1),\n",
    "    A.ToGray(1, p=1),\n",
    "    A.Normalize(mean=0.4375, std=0.2708),\n",
    "    ToTensorV2()\n",
    "])\n",
    "\n",
    "train_dataloader = utils.data.DataLoader(FacesIterDataset(ds, transforms),\n",
    "                              batch_size = 8,\n",
    "                              shuffle=False)"
   ]
  },
  {
   "cell_type": "code",
   "execution_count": 30,
   "metadata": {},
   "outputs": [],
   "source": [
    "def denormalize(img: torch.Tensor, mean: float = 0.4375, std: float = 0.2708) -> np.ndarray:\n",
    "    return np.clip((img.detach().numpy() * std + mean)*255, 0, 255).astype(np.uint8)"
   ]
  },
  {
   "cell_type": "code",
   "execution_count": 31,
   "metadata": {},
   "outputs": [],
   "source": [
    "from math import ceil, prod\n",
    "\n",
    "class Encoder(nn.Module):\n",
    "    def __init__(self, \n",
    "                 img_size: tuple[int],\n",
    "                 in_channels: int,\n",
    "                 latent_dim: int,\n",
    "                 hidden_layers: tuple[int]\n",
    "                ):\n",
    "        super().__init__()\n",
    "\n",
    "        layers = []\n",
    "        \n",
    "        for layer in hidden_layers:\n",
    "            layers.extend([\n",
    "                nn.Conv2d(in_channels, layer, kernel_size=3, stride=2, padding=1, bias=False),\n",
    "                nn.BatchNorm2d(layer),\n",
    "                nn.ELU()\n",
    "            ])\n",
    "            in_channels = layer\n",
    "\n",
    "        self.encoder = nn.Sequential(*layers)\n",
    "        \n",
    "        self.origin_shape = hidden_layers[-1], ceil(img_size[0] / 2**len(hidden_layers)), ceil(img_size[1] / 2**len(hidden_layers))\n",
    "\n",
    "        enc_dim = self.origin_shape[0] * self.origin_shape[1] * self.origin_shape[2]\n",
    "        \n",
    "        self.fc_mu = nn.Linear(enc_dim, latent_dim)\n",
    "        self.fc_logvar = nn.Linear(enc_dim, latent_dim)\n",
    "\n",
    "    def forward(self, x: torch.Tensor) -> tuple[torch.Tensor]:\n",
    "        x = torch.flatten(self.encoder(x), start_dim=1)\n",
    "        \n",
    "        mu = self.fc_mu(x)\n",
    "        logvar = self.fc_logvar(x)\n",
    "\n",
    "        return mu, logvar"
   ]
  },
  {
   "cell_type": "code",
   "execution_count": 32,
   "metadata": {},
   "outputs": [],
   "source": [
    "class Decoder(nn.Module):\n",
    "    def __init__(self,\n",
    "                 out_channels: int,\n",
    "                 latent_dim: int,\n",
    "                 origin_shape: tuple[int],\n",
    "                 hidden_layers: tuple[int]\n",
    "                ):\n",
    "        super().__init__()\n",
    "\n",
    "        self.fc = nn.Linear(latent_dim, prod(origin_shape))\n",
    "\n",
    "        self.reshape = lambda z: z.view(-1, *origin_shape)\n",
    "\n",
    "        layers = []\n",
    "        \n",
    "        for curr, next in zip(hidden_layers, hidden_layers[1:]):\n",
    "            layers.extend([\n",
    "                nn.ConvTranspose2d(curr, next, kernel_size=3, stride=2, padding=1, output_padding=1, bias=False),\n",
    "                nn.BatchNorm2d(next),\n",
    "                nn.ELU()\n",
    "            ])\n",
    "        \n",
    "        layers.append(nn.ConvTranspose2d(hidden_layers[-1], out_channels, kernel_size=3, stride=2, padding=1, output_padding=1))\n",
    "\n",
    "        self.decoder = nn.Sequential(*layers)\n",
    "\n",
    "    def forward(self, z: torch.Tensor) -> torch.Tensor:\n",
    "        z = self.fc(z)\n",
    "        z = self.reshape(z)\n",
    "\n",
    "        return self.decoder(z)"
   ]
  },
  {
   "cell_type": "code",
   "execution_count": 33,
   "metadata": {},
   "outputs": [],
   "source": [
    "class VAE(nn.Module):\n",
    "    def __init__(self, \n",
    "                 img_size: tuple[int],\n",
    "                 in_channels: int,\n",
    "                 latent_dim: int = 256,\n",
    "                 hidden_layers: tuple[int] = (8, 32, 64, 128)\n",
    "                ):\n",
    "        super().__init__()\n",
    "        \n",
    "        self.latent_dim = latent_dim\n",
    "        self.encoder = Encoder(img_size, in_channels, latent_dim, hidden_layers)\n",
    "        self.decoder = Decoder(in_channels, latent_dim, self.encoder.origin_shape, hidden_layers[::-1])\n",
    "    \n",
    "    def forward(self, x: torch.Tensor) -> tuple[torch.Tensor, torch.Tensor, torch.Tensor]:\n",
    "        mu, logvar = self.encoder(x)\n",
    "        z = self.reparameterize(mu, logvar)\n",
    "        \n",
    "        return self.decoder(z), mu, logvar\n",
    "    \n",
    "    def reparameterize(self, mu: torch.Tensor, logvar: torch.Tensor) -> torch.Tensor:\n",
    "        std = torch.exp(0.5 * logvar)\n",
    "        eps = torch.randn_like(std)\n",
    "\n",
    "        return eps * std + mu\n",
    "    \n",
    "    def loss(\n",
    "             self,\n",
    "             reconstr: torch.Tensor,\n",
    "             target: torch.Tensor,\n",
    "             mu: torch.Tensor, \n",
    "             logvar: torch.Tensor\n",
    "            ) -> tuple[torch.Tensor, torch.Tensor]:\n",
    "        \n",
    "        reconstruction_loss = F.mse_loss(reconstr, target)\n",
    "        regularization_term = -0.5 * torch.sum(1 + logvar - mu**2 - logvar.exp(), dim=1)\n",
    "\n",
    "        return reconstruction_loss, regularization_term.mean()\n",
    "\n",
    "    def sample(self, num: int) -> torch.Tensor:\n",
    "        z = torch.randn(num, self.latent_dim)\n",
    "\n",
    "        return self.decoder(z)"
   ]
  },
  {
   "cell_type": "code",
   "execution_count": 34,
   "metadata": {},
   "outputs": [],
   "source": [
    "vae = VAE((160, 144), 1, 128)"
   ]
  },
  {
   "cell_type": "code",
   "execution_count": 35,
   "metadata": {},
   "outputs": [],
   "source": [
    "epoch = 5\n",
    "lr = 3e-4\n",
    "grad_clip = 1\n",
    "optimizer = optim.AdamW(vae.parameters(), lr)\n",
    "# TODO: add scheduler"
   ]
  },
  {
   "cell_type": "code",
   "execution_count": null,
   "metadata": {},
   "outputs": [],
   "source": [
    "vae.train()\n",
    "vae.to(device)\n",
    "\n",
    "for e in range(epoch):\n",
    "    for i, inputs in enumerate(train_dataloader):\n",
    "    \n",
    "        inputs.to(device)\n",
    "\n",
    "        reconstructions, mu, logvar = vae(inputs)\n",
    "\n",
    "        reconstruction_loss, kl_loss = vae.loss(reconstructions, inputs, mu, logvar)\n",
    "        elbo_loss = reconstruction_loss + kl_loss\n",
    "\n",
    "        optimizer.zero_grad()\n",
    "        elbo_loss.backward()\n",
    "        nn.utils.clip_grad_norm_(vae.parameters(), grad_clip)\n",
    "        optimizer.step()\n",
    "\n",
    "        print(f'Reconstrucion loss: {reconstruction_loss.item()} | KL loss: {kl_loss.item()}')\n",
    "        \n",
    "        if (i % 20 == 0):\n",
    "            vae.eval()\n",
    "            display(Image.fromarray(denormalize(vae.sample(1).squeeze((0, 1)))))\n",
    "            vae.train()\n"
   ]
  },
  {
   "cell_type": "code",
   "execution_count": 404,
   "metadata": {},
   "outputs": [
    {
     "data": {
      "image/jpeg": "[encoded data removed]",
      "image/png": "[encoded data removed]",
      "text/plain": [
       "<PIL.Image.Image image mode=L size=144x160>"
      ]
     },
     "metadata": {},
     "output_type": "display_data"
    }
   ],
   "source": [
    "vae.eval()\n",
    "display(Image.fromarray(denormalize(vae.sample(1).squeeze((0, 1)))))"
   ]
  }
 ],
 "metadata": {
  "kernelspec": {
   "display_name": "usr",
   "language": "python",
   "name": "python3"
  },
  "language_info": {
   "codemirror_mode": {
    "name": "ipython",
    "version": 3
   },
   "file_extension": ".py",
   "mimetype": "text/x-python",
   "name": "python",
   "nbconvert_exporter": "python",
   "pygments_lexer": "ipython3",
   "version": "3.13.1"
  }
 },
 "nbformat": 4,
 "nbformat_minor": 2
}
